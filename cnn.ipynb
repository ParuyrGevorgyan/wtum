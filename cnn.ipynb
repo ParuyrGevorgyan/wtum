{
 "cells": [
  {
   "cell_type": "code",
   "execution_count": 47,
   "metadata": {},
   "outputs": [],
   "source": [
    "import torch\n",
    "import torchvision\n",
    "import torchvision.transforms as transforms\n",
    "import torchvision.datasets as datasets\n",
    "from FileCounter import fileCount\n",
    "import matplotlib.pyplot as plt\n",
    "import torch.nn as nn\n",
    "import torch.optim as optim"
   ]
  },
  {
   "cell_type": "code",
   "execution_count": 48,
   "metadata": {},
   "outputs": [],
   "source": [
    "trainData = 'asl-alphabet/asl_alphabet_train/asl_alphabet_train'\n",
    "testData = 'asl-alphabet/asl_alphabet_test/asl_alphabet_test'"
   ]
  },
  {
   "cell_type": "code",
   "execution_count": 49,
   "metadata": {},
   "outputs": [],
   "source": [
    "train_transforms =  transforms.Compose([\n",
    "    transforms.Resize((100, 100)),\n",
    "    transforms.ToTensor(),\n",
    "    transforms.Normalize(mean=[0.485, 0.456, 0.406],\n",
    "                         std=[0.229, 0.224, 0.225])\n",
    "])\n",
    "\n",
    "test_transforms = transforms.Compose([\n",
    "    transforms.Resize((100, 100)),\n",
    "    transforms.ToTensor(),\n",
    "    transforms.Normalize(mean=[0.485, 0.456, 0.406],\n",
    "                         std=[0.229, 0.224, 0.225])\n",
    "])\n",
    "\n",
    "train_dataset = datasets.ImageFolder(trainData, transform=train_transforms)\n",
    "test_dataset = datasets.ImageFolder(testData, transform=test_transforms)"
   ]
  },
  {
   "cell_type": "code",
   "execution_count": 50,
   "metadata": {},
   "outputs": [],
   "source": [
    "trainloader = torch.utils.data.DataLoader(train_dataset, batch_size=64, shuffle=True, num_workers=2)\n",
    "\n",
    "testloader = torch.utils.data.DataLoader(test_dataset, batch_size=64, shuffle=False, num_workers=2)\n"
   ]
  },
  {
   "cell_type": "code",
   "execution_count": 51,
   "metadata": {},
   "outputs": [],
   "source": [
    "\n",
    "# class CNN(nn.Module):\n",
    "#     def __init__(self):\n",
    "#         super(CNN, self).__init__()\n",
    "#         self.conv1 = nn.Conv2d(3, 32, kernel_size=3, stride=1, padding=1)\n",
    "#         self.pool = nn.MaxPool2d(kernel_size=2, stride=2)\n",
    "#         self.conv2 = nn.Conv2d(32, 64, kernel_size=3, stride=1, padding=1)\n",
    "#         self.fc1 = nn.Linear(64 * 37 * 37, 128)\n",
    "#         self.fc2 = nn.Linear(128, 29)\n",
    "\n",
    "#     def forward(self, x):\n",
    "#         x = self.pool(nn.functional.relu(self.conv1(x)))\n",
    "#         x = self.pool(nn.functional.relu(self.conv2(x)))\n",
    "#         x = x.view(-1, 64 * 37 * 37)\n",
    "#         x = nn.functional.relu(self.fc1(x))\n",
    "#         x = self.fc2(x)\n",
    "#         return x\n",
    "\n",
    "class CNN(nn.Module):\n",
    "    def __init__(self):\n",
    "        super(CNN, self).__init__()\n",
    "        self.conv1 = nn.Conv2d(3, 32, kernel_size=3, stride=1, padding=1)\n",
    "        self.pool1 = nn.MaxPool2d(kernel_size=2, stride=2)\n",
    "        self.conv2 = nn.Conv2d(32, 64, kernel_size=3, stride=1, padding=1)\n",
    "        self.pool2 = nn.MaxPool2d(kernel_size=2, stride=2)\n",
    "        self.fc1 = nn.Linear(64 * 25 * 25, 128)\n",
    "        self.fc2 = nn.Linear(128, 29)\n",
    "\n",
    "    def forward(self, x):\n",
    "        x = self.pool1(nn.functional.relu(self.conv1(x)))\n",
    "        x = self.pool2(nn.functional.relu(self.conv2(x)))\n",
    "        x = x.view(-1, 64 * 25 * 25)\n",
    "        x = nn.functional.relu(self.fc1(x))\n",
    "        x = self.fc2(x)\n",
    "        return x\n"
   ]
  },
  {
   "cell_type": "code",
   "execution_count": 52,
   "metadata": {},
   "outputs": [
    {
     "name": "stdout",
     "output_type": "stream",
     "text": [
      "[1,   200] loss: 3.201\n",
      "[1,   400] loss: 2.534\n",
      "[1,   600] loss: 2.078\n",
      "[1,   800] loss: 1.737\n",
      "[1,  1000] loss: 1.476\n",
      "[2,   200] loss: 1.127\n",
      "[2,   400] loss: 0.969\n",
      "[2,   600] loss: 0.861\n",
      "[2,   800] loss: 0.782\n",
      "[2,  1000] loss: 0.684\n",
      "[3,   200] loss: 0.547\n",
      "[3,   400] loss: 0.523\n",
      "[3,   600] loss: 0.454\n",
      "[3,   800] loss: 0.444\n",
      "[3,  1000] loss: 0.401\n",
      "[4,   200] loss: 0.340\n",
      "[4,   400] loss: 0.322\n",
      "[4,   600] loss: 0.289\n",
      "[4,   800] loss: 0.270\n",
      "[4,  1000] loss: 0.256\n",
      "[5,   200] loss: 0.220\n",
      "[5,   400] loss: 0.208\n",
      "[5,   600] loss: 0.204\n",
      "[5,   800] loss: 0.188\n",
      "[5,  1000] loss: 0.188\n",
      "[6,   200] loss: 0.145\n",
      "[6,   400] loss: 0.161\n",
      "[6,   600] loss: 0.158\n",
      "[6,   800] loss: 0.150\n",
      "[6,  1000] loss: 0.158\n",
      "[7,   200] loss: 0.116\n",
      "[7,   400] loss: 0.127\n",
      "[7,   600] loss: 0.106\n",
      "[7,   800] loss: 0.103\n",
      "[7,  1000] loss: 0.096\n",
      "[8,   200] loss: 0.091\n",
      "[8,   400] loss: 0.077\n",
      "[8,   600] loss: 0.089\n",
      "[8,   800] loss: 0.105\n",
      "[8,  1000] loss: 0.110\n",
      "[9,   200] loss: 0.074\n",
      "[9,   400] loss: 0.062\n",
      "[9,   600] loss: 0.062\n",
      "[9,   800] loss: 0.079\n",
      "[9,  1000] loss: 0.065\n",
      "[10,   200] loss: 0.063\n",
      "[10,   400] loss: 0.072\n",
      "[10,   600] loss: 0.057\n",
      "[10,   800] loss: 0.059\n",
      "[10,  1000] loss: 0.083\n",
      "Finished Training\n"
     ]
    }
   ],
   "source": [
    "net = CNN()\n",
    "\n",
    "# Step 4: Train the model\n",
    "\n",
    "# Move model and data to GPU if available\n",
    "device = torch.device(\"cuda\" if torch.cuda.is_available() else \"cpu\")\n",
    "net.to(device)\n",
    "\n",
    "# Step 4: Train the model\n",
    "criterion = nn.CrossEntropyLoss()\n",
    "optimizer = optim.SGD(net.parameters(), lr=0.001, momentum=0.9)\n",
    "\n",
    "for epoch in range(10):\n",
    "    running_loss = 0.0\n",
    "    for i, data in enumerate(trainloader, 0):\n",
    "        inputs, labels = data\n",
    "        inputs, labels = inputs.to(device), labels.to(device)  # move data to GPU\n",
    "\n",
    "        optimizer.zero_grad()\n",
    "\n",
    "        outputs = net(inputs)\n",
    "        loss = criterion(outputs, labels)\n",
    "        loss.backward()\n",
    "        optimizer.step()\n",
    "\n",
    "        running_loss += loss.item()\n",
    "        if i % 200 == 199:\n",
    "            print('[%d, %5d] loss: %.3f' %\n",
    "                  (epoch + 1, i + 1, running_loss / 200))\n",
    "            running_loss = 0.0\n",
    "\n",
    "print('Finished Training')"
   ]
  },
  {
   "cell_type": "code",
   "execution_count": 55,
   "metadata": {},
   "outputs": [
    {
     "name": "stdout",
     "output_type": "stream",
     "text": [
      "Accuracy of the network on the test images: 70 %\n"
     ]
    }
   ],
   "source": [
    "# Step 5: Evaluate the model\n",
    "correct = 0\n",
    "total = 0\n",
    "with torch.no_grad():\n",
    "    for data in testloader:\n",
    "        images, labels = data\n",
    "        images, labels = images.to(device), labels.to(device)  # move data to GPU\n",
    "        outputs = net(images)\n",
    "        _, predicted = torch.max(outputs.data, 1)\n",
    "        total += labels.size(0)\n",
    "        correct += (predicted == labels).sum().item()\n",
    "\n",
    "print('Accuracy of the network on the test images: %d %%' % (\n",
    "    100 * correct / total))"
   ]
  }
 ],
 "metadata": {
  "kernelspec": {
   "display_name": "Python 3",
   "language": "python",
   "name": "python3"
  },
  "language_info": {
   "codemirror_mode": {
    "name": "ipython",
    "version": 3
   },
   "file_extension": ".py",
   "mimetype": "text/x-python",
   "name": "python",
   "nbconvert_exporter": "python",
   "pygments_lexer": "ipython3",
   "version": "3.8.10"
  },
  "orig_nbformat": 4
 },
 "nbformat": 4,
 "nbformat_minor": 2
}
